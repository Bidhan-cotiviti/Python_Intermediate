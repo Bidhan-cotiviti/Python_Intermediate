{
 "cells": [
  {
   "cell_type": "code",
   "execution_count": null,
   "id": "fdf091b6",
   "metadata": {},
   "outputs": [],
   "source": [
    "Inheritance:\n",
    "     allows one class to inherit properties and methods from another class.\n",
    "        \n",
    "        \n",
    "\"Class inherited from base class is known as derived class.\"\n",
    "    "
   ]
  },
  {
   "cell_type": "code",
   "execution_count": 5,
   "id": "2d1f57e8",
   "metadata": {},
   "outputs": [
    {
     "name": "stdout",
     "output_type": "stream",
     "text": [
      "Fido\n",
      "Canine\n",
      "Labrador Retriever\n",
      "Woof!\n"
     ]
    }
   ],
   "source": [
    "class Animal:\n",
    "    def __init__(self, name, species):\n",
    "        self.name = name\n",
    "        self.species = species\n",
    "\n",
    "    def speak(self):\n",
    "        print(\"Animal\")\n",
    "\n",
    "class Dog(Animal):\n",
    "    def __init__(self, name, breed, species):\n",
    "        super().__init__(name, species )\n",
    "        self.breed = breed\n",
    "\n",
    "    def speak(self):\n",
    "        print(\"Woof!\")\n",
    "\n",
    "my_dog = Dog(\"Fido\", \"Labrador Retriever\",\"Canine\")\n",
    "print(my_dog.name)\n",
    "print(my_dog.species)\n",
    "print(my_dog.breed)\n",
    "my_dog.speak()\n"
   ]
  },
  {
   "cell_type": "code",
   "execution_count": null,
   "id": "d5c2c52a",
   "metadata": {},
   "outputs": [],
   "source": [
    "Encapsulation:\n",
    "    Private attributes and methods can only be accessed within the class that defines them.\n",
    "    Public attribute and methods can be accessed from anywhere."
   ]
  },
  {
   "cell_type": "code",
   "execution_count": 12,
   "id": "0e226baa",
   "metadata": {},
   "outputs": [
    {
     "name": "stdout",
     "output_type": "stream",
     "text": [
      "Toyota\n",
      "Honda\n",
      "Camry\n",
      "CBR\n",
      "2021\n",
      "2023\n"
     ]
    }
   ],
   "source": [
    "class Car:\n",
    "    def __init__(self, make, model, year):\n",
    "        self.__make = make\n",
    "        self.__model = model\n",
    "        self.__year = year\n",
    "\n",
    "    def get_make(self):\n",
    "        return self.__make\n",
    "\n",
    "    def set_make(self, make):\n",
    "        self.__make = make\n",
    "\n",
    "    def get_model(self):\n",
    "        return self.__model\n",
    "\n",
    "    def set_model(self, model):\n",
    "        self.__model = model\n",
    "\n",
    "    def get_year(self):\n",
    "        return self.__year\n",
    "\n",
    "    def set_year(self, year):\n",
    "        self.__year = year\n",
    "\n",
    "my_car = Car(\"Toyota\", \"Camry\", 2021)\n",
    "\n",
    "print(my_car.get_make())\n",
    "my_car.set_make(\"Honda\")\n",
    "print(my_car.get_make())\n",
    "\n",
    "print(my_car.get_model())\n",
    "my_car.set_model(\"CBR\")\n",
    "print(my_car.get_model())\n",
    "\n",
    "print(my_car.get_year())\n",
    "my_car.set_year(2023)\n",
    "print(my_car.get_year())\n",
    "\n",
    "\n",
    "#print(my_car.__make)\n",
    "# when trying to print above, it throws error as we dont have permisson to access \n",
    "# private attribute.\n"
   ]
  },
  {
   "cell_type": "code",
   "execution_count": 13,
   "id": "0171b979",
   "metadata": {},
   "outputs": [
    {
     "name": "stdout",
     "output_type": "stream",
     "text": [
      "1\n",
      "3\n",
      "6\n"
     ]
    }
   ],
   "source": [
    "#Function Overloading\n",
    "\n",
    "class MyMath:\n",
    "    def add(self, a, b=None, c=None):\n",
    "        if b is None and c is None:\n",
    "            return a\n",
    "        elif c is None:\n",
    "            return a + b\n",
    "        else:\n",
    "            return a + b + c\n",
    "\n",
    "math = MyMath()\n",
    "print(math.add(1))\n",
    "print(math.add(1,2))\n",
    "print(math.add(1,2,3))"
   ]
  },
  {
   "cell_type": "code",
   "execution_count": 14,
   "id": "10c8d055",
   "metadata": {},
   "outputs": [
    {
     "name": "stdout",
     "output_type": "stream",
     "text": [
      "(4, 6)\n"
     ]
    }
   ],
   "source": [
    "#Operator Overloading\n",
    "\n",
    "class Point:\n",
    "    def __init__(self, x, y):\n",
    "        self.x = x\n",
    "        self.y = y\n",
    "\n",
    "    def __add__(self, other):\n",
    "        return Point(self.x + other.x, self.y + other.y)\n",
    "\n",
    "    def __str__(self):\n",
    "        return \"({0}, {1})\".format(self.x, self.y)\n",
    "\n",
    "p1 = Point(1, 2)\n",
    "p2 = Point(3, 4)\n",
    "p3 = p1 + p2\n",
    "print(p3)"
   ]
  },
  {
   "cell_type": "code",
   "execution_count": null,
   "id": "b9cc80c5",
   "metadata": {},
   "outputs": [],
   "source": [
    "Abstraction:\n",
    "    focuses on the essential features of an object \n",
    "    while hiding the background details or implementation complexities."
   ]
  },
  {
   "cell_type": "code",
   "execution_count": null,
   "id": "27ecab39",
   "metadata": {},
   "outputs": [],
   "source": [
    "Name mangling: \n",
    "    A technique used in object-oriented programming to avoid \n",
    "naming conflicts. In Python, it is done by adding a double underscore prefix \n",
    "to the attribute or method name. When an identifier is prefixed with \n",
    "double underscores, it is automatically changed to a mangled form by Python. \n",
    "The purpose of name mangling is to ensure that class attributes and methods \n",
    "with similar names in different classes do not conflict with each other.\n"
   ]
  },
  {
   "cell_type": "code",
   "execution_count": 15,
   "id": "e093598b",
   "metadata": {},
   "outputs": [
    {
     "name": "stdout",
     "output_type": "stream",
     "text": [
      "0\n",
      "100\n"
     ]
    }
   ],
   "source": [
    "# \"Name Mangling\"\n",
    "\n",
    "class MyClass:\n",
    "    def __init__(self):\n",
    "        self.__x = 0\n",
    "\n",
    "    def get_x(self):\n",
    "        return self.__x\n",
    "\n",
    "class MyOtherClass:\n",
    "    def __init__(self):\n",
    "        self.__x = 100\n",
    "\n",
    "    def get_x(self):\n",
    "        return self.__x\n",
    "\n",
    "obj1 = MyClass()\n",
    "obj2 = MyOtherClass()\n",
    "\n",
    "print(obj1.get_x()) \n",
    "print(obj2.get_x())  "
   ]
  },
  {
   "cell_type": "code",
   "execution_count": null,
   "id": "3dde31d9",
   "metadata": {},
   "outputs": [],
   "source": [
    "Introspection in Python is the ability to examine the properties of objects\n",
    "at runtime & allows you to get information about the type, properties, \n",
    "and methods of an object,as well as its module and package information.\n",
    "\n",
    "eg: \n",
    "    type()\n",
    "    dir()\n",
    "    isinstance()"
   ]
  }
 ],
 "metadata": {
  "kernelspec": {
   "display_name": "Python 3 (ipykernel)",
   "language": "python",
   "name": "python3"
  },
  "language_info": {
   "codemirror_mode": {
    "name": "ipython",
    "version": 3
   },
   "file_extension": ".py",
   "mimetype": "text/x-python",
   "name": "python",
   "nbconvert_exporter": "python",
   "pygments_lexer": "ipython3",
   "version": "3.9.5"
  }
 },
 "nbformat": 4,
 "nbformat_minor": 5
}
